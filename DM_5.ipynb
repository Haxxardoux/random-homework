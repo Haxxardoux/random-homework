{
 "cells": [
  {
   "cell_type": "markdown",
   "metadata": {},
   "source": [
    "## Decision models homework 5, yee-haw!"
   ]
  },
  {
   "cell_type": "code",
   "execution_count": 1,
   "metadata": {},
   "outputs": [],
   "source": [
    "# Rustle up some asynchronous tensor manipulation, partner!\n",
    "import jax\n",
    "from jax import numpy as np"
   ]
  },
  {
   "cell_type": "code",
   "execution_count": 2,
   "metadata": {},
   "outputs": [
    {
     "name": "stderr",
     "output_type": "stream",
     "text": [
      "/data/home/will/.conda/envs/will-gpu/lib/python3.8/site-packages/jax/lib/xla_bridge.py:130: UserWarning: No GPU/TPU found, falling back to CPU.\n",
      "  warnings.warn('No GPU/TPU found, falling back to CPU.')\n",
      "/data/home/will/.conda/envs/will-gpu/lib/python3.8/site-packages/jax/lax/lax.py:6198: UserWarning: Explicitly requested dtype int64 requested in array is not available, and will be truncated to dtype int32. To enable more dtypes, set the jax_enable_x64 configuration option or the JAX_ENABLE_X64 shell environment variable. See https://github.com/google/jax#current-gotchas for more.\n",
      "  warnings.warn(msg.format(dtype, fun_name , truncated_dtype))\n"
     ]
    }
   ],
   "source": [
    "import grub"
   ]
  },
  {
   "cell_type": "code",
   "execution_count": 3,
   "metadata": {},
   "outputs": [],
   "source": [
    "# Rustle up some grub there, partner!\n",
    "cowboy_details = grub.rustle()\n",
    "\n",
    "# add joke about horse\n",
    "clue_about_maiden_whereabouts = jax.random.PRNGKey(1)\n",
    "clue_about_maiden_mood = jax.random.PRNGKey(2)\n",
    "lookin_for_maidens = jax.random.uniform(clue_about_maiden_whereabouts, shape=(cowboy_details.n_cowboys, 20), dtype=jax.numpy.float32)\n",
    "maiden_mood = jax.random.normal(clue_about_maiden_mood, shape=(cowboy_details.n_cowboys, 20), dtype=jax.numpy.float32)"
   ]
  },
  {
   "cell_type": "code",
   "execution_count": 4,
   "metadata": {},
   "outputs": [],
   "source": [
    "# Dont squat with your spurs on!\n",
    "@jax.jit\n",
    "def rescue_maiden(luck, maiden_mood):\n",
    "    did_we_rescue_the_maiden = luck < cowboy_details.cowgirl_needs_rescuing_prob * cowboy_details.cowgirl_rescued_prob\n",
    "    maiden_gratitude = cowboy_details.gratitude_mean + cowboy_details.gratitude_std * maiden_mood\n",
    "    return maiden_gratitude*did_we_rescue_the_maiden\n",
    "    \n",
    "    \n",
    "@jax.jit\n",
    "def initiate_adventure(do_luck_be_on_our_side, is_it_that_time_of_the_month):\n",
    "    return jax.vmap(rescue_maiden)(do_luck_be_on_our_side, is_it_that_time_of_the_month)"
   ]
  },
  {
   "cell_type": "code",
   "execution_count": 5,
   "metadata": {},
   "outputs": [],
   "source": [
    "our_adventure_was_great = initiate_adventure(do_luck_be_on_our_side=lookin_for_maidens, is_it_that_time_of_the_month = maiden_mood)"
   ]
  },
  {
   "cell_type": "markdown",
   "metadata": {},
   "source": [
    "#### A) "
   ]
  },
  {
   "cell_type": "code",
   "execution_count": 6,
   "metadata": {},
   "outputs": [
    {
     "data": {
      "text/plain": [
       "119.14285278320312"
      ]
     },
     "execution_count": 6,
     "metadata": {},
     "output_type": "execute_result"
    }
   ],
   "source": [
    "our_adventure_was_great.sum(axis=1).mean().item()"
   ]
  },
  {
   "cell_type": "code",
   "execution_count": 7,
   "metadata": {},
   "outputs": [],
   "source": [
    "we_rescued_many = our_adventure_was_great.sum(axis=1).std() / (len(our_adventure_was_great)**(1/2))\n",
    "\n",
    "# googled the z value for 95% confidence - 1.96, thanks google very cool \n",
    "we_rescued_many *= 1.96"
   ]
  },
  {
   "cell_type": "markdown",
   "metadata": {},
   "source": [
    "#### B) "
   ]
  },
  {
   "cell_type": "code",
   "execution_count": 8,
   "metadata": {},
   "outputs": [
    {
     "name": "stdout",
     "output_type": "stream",
     "text": [
      "120.09924\n",
      "118.18646\n"
     ]
    }
   ],
   "source": [
    "print(our_adventure_was_great.sum(axis=1).mean()+we_rescued_many)\n",
    "print(our_adventure_was_great.sum(axis=1).mean()-we_rescued_many)"
   ]
  },
  {
   "cell_type": "markdown",
   "metadata": {},
   "source": [
    "#### C) "
   ]
  },
  {
   "cell_type": "code",
   "execution_count": 9,
   "metadata": {},
   "outputs": [
    {
     "data": {
      "text/plain": [
       "0.055799998342990875"
      ]
     },
     "execution_count": 9,
     "metadata": {},
     "output_type": "execute_result"
    }
   ],
   "source": [
    "np.mean(our_adventure_was_great.sum(axis=1)>200).item()"
   ]
  },
  {
   "cell_type": "code",
   "execution_count": 10,
   "metadata": {},
   "outputs": [],
   "source": [
    "# Rewrite in cowboy theme later"
   ]
  },
  {
   "cell_type": "code",
   "execution_count": 11,
   "metadata": {},
   "outputs": [],
   "source": [
    "show = jax.random.uniform(clue_about_maiden_whereabouts, shape=(cowboy_details.n_cowboys, 56), dtype=jax.numpy.float32)"
   ]
  },
  {
   "cell_type": "code",
   "execution_count": 14,
   "metadata": {},
   "outputs": [],
   "source": [
    "@jax.jit\n",
    "def simulation(probability):\n",
    "    booking_limit = probability.shape[0]\n",
    "    n_guests = jax.lax.min(np.sum(probability > 0.1), 50)\n",
    "\n",
    "    revenue = 105*booking_limit\n",
    "    n_overbooked = jax.lax.max(booking_limit-n_guests, 0)\n",
    "\n",
    "    revenue -= (105+150)*n_overbooked\n",
    "\n",
    "    return revenue - n_guests*45\n"
   ]
  },
  {
   "cell_type": "code",
   "execution_count": 15,
   "metadata": {},
   "outputs": [],
   "source": [
    "@jax.jit\n",
    "def sim_2d(show):\n",
    "    return jax.vmap(simulation)(show)"
   ]
  },
  {
   "cell_type": "code",
   "execution_count": 16,
   "metadata": {},
   "outputs": [],
   "source": [
    "profit = sim_2d(show)"
   ]
  },
  {
   "cell_type": "code",
   "execution_count": 17,
   "metadata": {},
   "outputs": [
    {
     "data": {
      "text/plain": [
       "DeviceArray(1950.522, dtype=float32)"
      ]
     },
     "execution_count": 17,
     "metadata": {},
     "output_type": "execute_result"
    }
   ],
   "source": [
    "profit.mean()"
   ]
  },
  {
   "cell_type": "code",
   "execution_count": 18,
   "metadata": {},
   "outputs": [
    {
     "ename": "NameError",
     "evalue": "name 'plt' is not defined",
     "output_type": "error",
     "traceback": [
      "\u001b[0;31m---------------------------------------------------------------------------\u001b[0m",
      "\u001b[0;31mNameError\u001b[0m                                 Traceback (most recent call last)",
      "\u001b[0;32m<ipython-input-18-3aaed90e0ed2>\u001b[0m in \u001b[0;36m<module>\u001b[0;34m\u001b[0m\n\u001b[0;32m----> 1\u001b[0;31m \u001b[0mplt\u001b[0m\u001b[0;34m.\u001b[0m\u001b[0mhist\u001b[0m\u001b[0;34m(\u001b[0m\u001b[0mprofit\u001b[0m\u001b[0;34m.\u001b[0m\u001b[0mcopy\u001b[0m\u001b[0;34m(\u001b[0m\u001b[0;34m)\u001b[0m\u001b[0;34m)\u001b[0m\u001b[0;34m\u001b[0m\u001b[0;34m\u001b[0m\u001b[0m\n\u001b[0m\u001b[1;32m      2\u001b[0m \u001b[0mplt\u001b[0m\u001b[0;34m.\u001b[0m\u001b[0mshow\u001b[0m\u001b[0;34m(\u001b[0m\u001b[0;34m)\u001b[0m\u001b[0;34m\u001b[0m\u001b[0;34m\u001b[0m\u001b[0m\n",
      "\u001b[0;31mNameError\u001b[0m: name 'plt' is not defined"
     ]
    }
   ],
   "source": [
    "plt.hist(profit.copy())\n",
    "plt.show()"
   ]
  }
 ],
 "metadata": {
  "kernelspec": {
   "display_name": "Python [conda env:.conda-will-gpu] *",
   "language": "python",
   "name": "conda-env-.conda-will-gpu-py"
  },
  "language_info": {
   "codemirror_mode": {
    "name": "ipython",
    "version": 3
   },
   "file_extension": ".py",
   "mimetype": "text/x-python",
   "name": "python",
   "nbconvert_exporter": "python",
   "pygments_lexer": "ipython3",
   "version": "3.8.5"
  }
 },
 "nbformat": 4,
 "nbformat_minor": 4
}
