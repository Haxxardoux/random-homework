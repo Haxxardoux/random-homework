{
 "cells": [
  {
   "cell_type": "markdown",
   "metadata": {},
   "source": [
    "## Solution to problems 14-16, Quantum mechanics I"
   ]
  },
  {
   "cell_type": "markdown",
   "metadata": {},
   "source": [
    "### 14) Compute [$\\hat{A}, \\hat{B}$], where\n",
    "\n",
    "$\\hat{A} = \t\\begin{pmatrix}\n",
    "    0 & (1-i)\\sqrt(3) & -(1+i)\\\\\n",
    "    (1+i)\\sqrt(3) & -1 & i\\sqrt{3}\\\\\n",
    "    -(1-i) & -i\\sqrt{3} & 1\n",
    "    \\end{pmatrix}$\n",
    "\n",
    "$\\hat{B} = \t\\begin{pmatrix}\n",
    "    6 & -(1-i)\\sqrt(3) & 3(1+i)\\\\\n",
    "    -(1+i)\\sqrt(3) & 9 & -i\\sqrt{3}\\\\\n",
    "    3(1-i) & i\\sqrt{3} & 3\n",
    "    \\end{pmatrix}$\n",
    "\n",
    "    \n",
    "    "
   ]
  },
  {
   "cell_type": "markdown",
   "metadata": {},
   "source": [
    "Solution: The commutation relation between two matrices is defined by $[\\hat{A}, \\hat{B}] = \\hat{A}\\hat{B} - \\hat{B}\\hat{A}$"
   ]
  },
  {
   "cell_type": "code",
   "execution_count": 1,
   "metadata": {},
   "outputs": [],
   "source": [
    "import numpy as np\n",
    "from math import sqrt"
   ]
  },
  {
   "cell_type": "code",
   "execution_count": 2,
   "metadata": {},
   "outputs": [],
   "source": [
    "A = np.array([\n",
    "    [0, (1-1j)*sqrt(3), -(1+1j)],\n",
    "    [(1+1j)*sqrt(3), -1, 1j*sqrt(3)],\n",
    "    [-(1-1j), -1j*sqrt(3), 1]\n",
    "])\n",
    "B = np.array([\n",
    "    [6, -(1-1j)*sqrt(3), 3*(1+1j)],\n",
    "    [-(1+1j)*sqrt(3), 9, -1j*sqrt(3)],\n",
    "    [3*(1-1j), 1j*sqrt(3), 3]\n",
    "])\n"
   ]
  },
  {
   "cell_type": "markdown",
   "metadata": {},
   "source": [
    "Rounding to 6 decimal places to write off numerical instability, we see the matrices are perfect commutators"
   ]
  },
  {
   "cell_type": "code",
   "execution_count": 3,
   "metadata": {},
   "outputs": [
    {
     "data": {
      "text/plain": [
       "array([[ 0.+0.j,  0.+0.j,  0.+0.j],\n",
       "       [ 0.+0.j,  0.+0.j, -0.+0.j],\n",
       "       [ 0.+0.j,  0.+0.j,  0.+0.j]])"
      ]
     },
     "execution_count": 3,
     "metadata": {},
     "output_type": "execute_result"
    }
   ],
   "source": [
    "commutation = np.matmul(A, B) - np.matmul(B, A)\n",
    "commutation.round(6)"
   ]
  },
  {
   "cell_type": "markdown",
   "metadata": {},
   "source": [
    "### 15) Compute the eigenvalues $\\lambda_{i}$, and a corresponding orthonormal basis of eigenvectors, $\\omega_{i}, of \\hat{B}$\n",
    "Solution: We use QR matrix factorization, and take only the Q component, which is made orthogonal with the gram-schmidt algorithm"
   ]
  },
  {
   "cell_type": "code",
   "execution_count": 4,
   "metadata": {},
   "outputs": [
    {
     "name": "stdout",
     "output_type": "stream",
     "text": [
      "Eigenvectors: \n",
      " [[-0.4082-0.4082j -0.4082+0.4082j  0.4082-0.4082j]\n",
      " [ 0.    -0.j      0.7071+0.j      0.7071+0.j    ]\n",
      " [ 0.8165+0.j      0.    +0.4082j -0.    -0.4082j]]\n",
      "Eigenvalues: \n",
      " [-0.+0.j 12.+0.j  6.-0.j]\n",
      "Orthonormal basis: \n",
      " [[-0.4082-0.4082j  0.4082-0.4082j -0.4082+0.4082j]\n",
      " [ 0.    -0.j     -0.7071-0.j     -0.7071+0.j    ]\n",
      " [ 0.8165-0.j      0.    -0.4082j  0.    +0.4082j]]\n"
     ]
    }
   ],
   "source": [
    "w, v = np.linalg.eig(B)\n",
    "print('Eigenvectors: \\n', v.round(4))\n",
    "print('Eigenvalues: \\n', w.round(4))\n",
    "\n",
    "Q, _ = np.linalg.qr(v)\n",
    "print('Orthonormal basis: \\n', Q.round(4))"
   ]
  },
  {
   "cell_type": "markdown",
   "metadata": {},
   "source": [
    "Check: Is it actually orthonormal? "
   ]
  },
  {
   "cell_type": "code",
   "execution_count": 5,
   "metadata": {},
   "outputs": [
    {
     "data": {
      "text/plain": [
       "array([[1., 0., 0.],\n",
       "       [0., 1., 0.],\n",
       "       [0., 0., 1.]])"
      ]
     },
     "execution_count": 5,
     "metadata": {},
     "output_type": "execute_result"
    }
   ],
   "source": [
    "np.matmul(Q, np.conj(Q).T).real.round(5)"
   ]
  },
  {
   "cell_type": "markdown",
   "metadata": {},
   "source": [
    "It is. "
   ]
  },
  {
   "cell_type": "markdown",
   "metadata": {},
   "source": [
    "### 15) Do $\\hat{B}$ and $\\hat{A}$ have a common orthonormal basis? Why or why not?\n",
    "Solution: We re-do the process of generating an orthonormal basis again for convenience"
   ]
  },
  {
   "cell_type": "code",
   "execution_count": 6,
   "metadata": {},
   "outputs": [
    {
     "name": "stdout",
     "output_type": "stream",
     "text": [
      "Eigenvectors: \n",
      " [[ 0.8165+0.j     -0.4082+0.4082j  0.1193-0.2531j]\n",
      " [ 0.3536+0.3536j  0.7071+0.j      0.215 +0.4087j]\n",
      " [-0.2041+0.2041j  0.    +0.4082j  0.8417+0.j    ]]\n",
      "Eigenvalues: \n",
      " [ 2.+0.j -4.-0.j  2.+0.j]\n",
      "Orthonormal basis difference: \n",
      " [[ 0.40825-0.40825j -0.     +0.j      -0.40825+0.40825j]\n",
      " [ 0.35355+0.35355j  0.     +0.j      -0.64989+0.49672j]\n",
      " [ 0.61237+0.20412j  0.     -0.j       0.86034+0.30914j]]\n"
     ]
    }
   ],
   "source": [
    "wa, va = np.linalg.eig(A)\n",
    "print('Eigenvectors: \\n', va.round(4))\n",
    "print('Eigenvalues: \\n', wa.round(4))\n",
    "\n",
    "Qa, _ = np.linalg.qr(va)\n",
    "print('Orthonormal basis difference: \\n', (Q - Qa).round(5))\n"
   ]
  },
  {
   "cell_type": "markdown",
   "metadata": {},
   "source": []
  }
 ],
 "metadata": {
  "kernelspec": {
   "display_name": "june2020-gpu",
   "language": "python",
   "name": "june2020-gpu"
  },
  "language_info": {
   "codemirror_mode": {
    "name": "ipython",
    "version": 3
   },
   "file_extension": ".py",
   "mimetype": "text/x-python",
   "name": "python",
   "nbconvert_exporter": "python",
   "pygments_lexer": "ipython3",
   "version": "3.7.6"
  }
 },
 "nbformat": 4,
 "nbformat_minor": 4
}
