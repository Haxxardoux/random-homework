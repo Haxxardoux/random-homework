{
 "cells": [
  {
   "cell_type": "markdown",
   "metadata": {},
   "source": [
    "## 1)"
   ]
  },
  {
   "cell_type": "code",
   "execution_count": 1,
   "metadata": {},
   "outputs": [],
   "source": [
    "from ortools.linear_solver import pywraplp as glp   "
   ]
  },
  {
   "cell_type": "code",
   "execution_count": 2,
   "metadata": {},
   "outputs": [],
   "source": [
    "def optimize(labor_hours):\n",
    "    '''\n",
    "    No, I could not think of a better way to do this\n",
    "    '''    \n",
    "    mymodel = glp.Solver('BPI', glp.Solver.GLOP_LINEAR_PROGRAMMING)\n",
    "    \n",
    "    # define decision variables\n",
    "    P1 = mymodel.NumVar(0, mymodel.infinity(), 'Product 1')\n",
    "    P2 = mymodel.NumVar(0, mymodel.infinity(), 'Product 2')\n",
    "    P3 = mymodel.NumVar(0, mymodel.infinity(), 'Product 3')\n",
    "\n",
    "    # define objective function\n",
    "    Profit = mymodel.Objective()\n",
    "    Profit.SetCoefficient(P1, 30)\n",
    "    Profit.SetCoefficient(P2, 50)\n",
    "    Profit.SetCoefficient(P3, 20)\n",
    "\n",
    "    Profit.SetMaximization()\n",
    "    M1_hours_constraint = mymodel.Constraint(0, 40)\n",
    "    M1_hours_constraint.SetCoefficient(P1, .5)\n",
    "    M1_hours_constraint.SetCoefficient(P2, 2)\n",
    "    M1_hours_constraint.SetCoefficient(P3, .75)\n",
    "\n",
    "    M2_hours_constraint = mymodel.Constraint(0, 40)\n",
    "    M2_hours_constraint.SetCoefficient(P1, 1)\n",
    "    M2_hours_constraint.SetCoefficient(P2, 1)\n",
    "    M2_hours_constraint.SetCoefficient(P3, .5)\n",
    "\n",
    "    # at most 50%\n",
    "    P1_pct_constraint = mymodel.Constraint(0, mymodel.infinity())\n",
    "    P1_pct_constraint.SetCoefficient(P1, -0.5) \n",
    "    P1_pct_constraint.SetCoefficient(P2, 0.5)\n",
    "    P1_pct_constraint.SetCoefficient(P3, 0.5)\n",
    "\n",
    "    # # at least 20%\n",
    "    P3_pct_constraint = mymodel.Constraint(0, mymodel.infinity())\n",
    "    P3_pct_constraint.SetCoefficient(P1, -0.2)\n",
    "    P3_pct_constraint.SetCoefficient(P2, -0.2)\n",
    "    P3_pct_constraint.SetCoefficient(P3, 0.8)\n",
    "\n",
    "    Tot_hours_constraint = mymodel.Constraint(0, labor_hours)\n",
    "    Tot_hours_constraint.SetCoefficient(P1, 2*.5 + 1)\n",
    "    Tot_hours_constraint.SetCoefficient(P2, 2*2 + 1)\n",
    "    Tot_hours_constraint.SetCoefficient(P3, 2*.75 + 0.5)\n",
    "    return mymodel, (P1, P2, P3), Profit, Tot_hours_constraint"
   ]
  },
  {
   "cell_type": "markdown",
   "metadata": {},
   "source": [
    "### a)"
   ]
  },
  {
   "cell_type": "code",
   "execution_count": 3,
   "metadata": {},
   "outputs": [
    {
     "name": "stdout",
     "output_type": "stream",
     "text": [
      "Optimal Solution:\n",
      "Total Profit = 1250.00\n",
      "P1 Quantity = 25.00\n",
      "P2 Quantity = 0.00\n",
      "P3 Quantity = 25.00\n",
      "Hours constraint = 12.50\n"
     ]
    }
   ],
   "source": [
    "# Solve the model and print optimal solution\n",
    "mymodel, (P1, P2, P3), Profit, Hours_constraint = optimize(labor_hours=100)\n",
    "mymodel.Solve()\n",
    "\n",
    "print('Optimal Solution:')\n",
    "print('Total Profit = %.2f' % Profit.Value())\n",
    "\n",
    "print('P1 Quantity = %.2f' % P1.solution_value())\n",
    "print('P2 Quantity = %.2f' % P2.solution_value())\n",
    "print('P3 Quantity = %.2f' % P3.solution_value())\n",
    "\n",
    "# marginal value of the resources\n",
    "print('Hours constraint = %.2f' % Hours_constraint.dual_value())\n"
   ]
  },
  {
   "cell_type": "markdown",
   "metadata": {},
   "source": [
    "### b)"
   ]
  },
  {
   "cell_type": "code",
   "execution_count": 4,
   "metadata": {},
   "outputs": [],
   "source": [
    "def hours(p1, p2, p3):\n",
    "    return p1*(2*.5 + 1), p2*(2*2 + 1), p3*(2*.75 + 0.5)"
   ]
  },
  {
   "cell_type": "code",
   "execution_count": 5,
   "metadata": {},
   "outputs": [
    {
     "name": "stdout",
     "output_type": "stream",
     "text": [
      "Production time on machine 1- 50.0, 2- 0, 3- 50.0\n"
     ]
    }
   ],
   "source": [
    "print('Production time on machine 1- {0}, 2- {1}, 3- {2}'.format(*hours(25, 0, 25)))"
   ]
  },
  {
   "cell_type": "markdown",
   "metadata": {},
   "source": [
    "### c) \n",
    "As per the hours constraint marginal value, the value of an additional hour of labor is 12.5$"
   ]
  },
  {
   "cell_type": "markdown",
   "metadata": {},
   "source": [
    "### d)"
   ]
  },
  {
   "cell_type": "code",
   "execution_count": 6,
   "metadata": {},
   "outputs": [
    {
     "name": "stdout",
     "output_type": "stream",
     "text": [
      "Optimal Solution:\n",
      "Total Profit = 1440.00\n",
      "P1 Quantity = 24.00\n",
      "P2 Quantity = 8.00\n",
      "P3 Quantity = 16.00\n",
      "Hours constraint = 8.00\n"
     ]
    }
   ],
   "source": [
    "# Solve the model and print optimal solution\n",
    "mymodel, (P1, P2, P3), Profit, Hours_constraint = optimize(labor_hours=120)\n",
    "mymodel.Solve()\n",
    "\n",
    "print('Optimal Solution:')\n",
    "print('Total Profit = %.2f' % Profit.Value())\n",
    "\n",
    "print('P1 Quantity = %.2f' % P1.solution_value())\n",
    "print('P2 Quantity = %.2f' % P2.solution_value())\n",
    "print('P3 Quantity = %.2f' % P3.solution_value())\n",
    "\n",
    "# marginal value of the resources\n",
    "print('Hours constraint = %.2f' % Hours_constraint.dual_value())"
   ]
  },
  {
   "cell_type": "markdown",
   "metadata": {},
   "source": [
    "# 2)"
   ]
  },
  {
   "cell_type": "code",
   "execution_count": 7,
   "metadata": {},
   "outputs": [],
   "source": [
    "mymodel = glp.Solver('FC', glp.Solver.GLOP_LINEAR_PROGRAMMING)\n",
    "\n",
    "# define decision variables\n",
    "BoughtFrame = mymodel.NumVar(0, mymodel.infinity(), 'Purchased Frames')\n",
    "BoughtSupport = mymodel.NumVar(0, mymodel.infinity(), 'Purchased Supports')\n",
    "BoughtStrap = mymodel.NumVar(0, mymodel.infinity(), 'Purchased Straps')\n",
    "MadeFrame = mymodel.NumVar(0, mymodel.infinity(), 'Produced Frames')\n",
    "MadeSupport = mymodel.NumVar(0, mymodel.infinity(), 'Produced Supports')\n",
    "MadeStrap = mymodel.NumVar(0, mymodel.infinity(), 'Produced Straps')\n",
    "\n",
    "# define objective function\n",
    "Cost = mymodel.Objective()\n",
    "Cost.SetCoefficient(BoughtFrame, 51)\n",
    "Cost.SetCoefficient(BoughtSupport, 15)\n",
    "Cost.SetCoefficient(BoughtStrap, 7.5)\n",
    "Cost.SetCoefficient(MadeFrame, 38)\n",
    "Cost.SetCoefficient(MadeSupport, 11.5)\n",
    "Cost.SetCoefficient(MadeStrap, 6.5)\n",
    "\n",
    "Cost.SetMinimization()\n",
    "\n",
    "\n",
    "Cutting = mymodel.Constraint(0, 60*350)\n",
    "Cutting.SetCoefficient(MadeFrame, 3.5)\n",
    "Cutting.SetCoefficient(MadeSupport, 1.3)\n",
    "Cutting.SetCoefficient(MadeStrap, .8)\n",
    "\n",
    "Milling = mymodel.Constraint(0, 60*420)\n",
    "Milling.SetCoefficient(MadeFrame, 2.2)\n",
    "Milling.SetCoefficient(MadeSupport, 1.7)\n",
    "\n",
    "Shaping = mymodel.Constraint(0, 60*350)\n",
    "Shaping.SetCoefficient(MadeFrame, 3.1)\n",
    "Shaping.SetCoefficient(MadeSupport, 2.6)\n",
    "Shaping.SetCoefficient(MadeStrap, 1.7)\n",
    "\n",
    "\n",
    "SupQuota = mymodel.Constraint(5000, mymodel.infinity())\n",
    "SupQuota.SetCoefficient(BoughtSupport, 1)\n",
    "SupQuota.SetCoefficient(MadeSupport, 1)\n",
    "\n",
    "FrameQuota = mymodel.Constraint(5000, mymodel.infinity())\n",
    "FrameQuota.SetCoefficient(BoughtFrame, 1)\n",
    "FrameQuota.SetCoefficient(MadeFrame, 1)\n",
    "\n",
    "StrapQuota = mymodel.Constraint(10000, mymodel.infinity())\n",
    "StrapQuota.SetCoefficient(BoughtStrap, 1)\n",
    "StrapQuota.SetCoefficient(MadeStrap, 1)\n"
   ]
  },
  {
   "cell_type": "markdown",
   "metadata": {},
   "source": [
    "### a)"
   ]
  },
  {
   "cell_type": "code",
   "execution_count": 8,
   "metadata": {},
   "outputs": [
    {
     "name": "stdout",
     "output_type": "stream",
     "text": [
      "Optimal Solution:\n",
      "Total Cost = 332596.15 \n",
      "\n",
      "BoughtFrame Quantity = 0.00\n",
      "BoughtSupport Quantity = 2884.62\n",
      "BoughtStrap Quantity = 10000.00\n",
      "MadeFrame Quantity = 5000.00\n",
      "MadeSupport Quantity = 2115.38\n",
      "MadeStrap Quantity = 0.00 \n",
      "\n",
      "Cutting constraint = 0.00\n",
      "Shaping constraint = -1.35\n",
      "Milling constraint = 0.00\n"
     ]
    }
   ],
   "source": [
    "mymodel.Solve()\n",
    "print('Optimal Solution:')\n",
    "print('Total Cost = %.2f' % Cost.Value(), '\\n')\n",
    "\n",
    "print('BoughtFrame Quantity = %.2f' % BoughtFrame.solution_value()) \n",
    "print('BoughtSupport Quantity = %.2f' % BoughtSupport.solution_value()) \n",
    "print('BoughtStrap Quantity = %.2f' % BoughtStrap.solution_value()) \n",
    "print('MadeFrame Quantity = %.2f' % MadeFrame.solution_value()) \n",
    "print('MadeSupport Quantity = %.2f' % MadeSupport.solution_value()) \n",
    "print('MadeStrap Quantity = %.2f' % MadeStrap.solution_value(), '\\n') \n",
    "\n",
    "print('Cutting constraint = %.2f' % Cutting.dual_value())\n",
    "print('Shaping constraint = %.2f' % Shaping.dual_value())\n",
    "print('Milling constraint = %.2f' % Milling.dual_value())\n"
   ]
  },
  {
   "cell_type": "markdown",
   "metadata": {},
   "source": [
    "### b)\n",
    "The value of another hour in the shaping department is 60*1.35$, and this department is the only bottleneck - no value in more hours in other departments "
   ]
  },
  {
   "cell_type": "code",
   "execution_count": 9,
   "metadata": {},
   "outputs": [],
   "source": [
    "mymodel = glp.Solver('FC', glp.Solver.GLOP_LINEAR_PROGRAMMING)\n",
    "\n",
    "# define decision variables\n",
    "BoughtFrame = mymodel.NumVar(0, mymodel.infinity(), 'Purchased Frames')\n",
    "BoughtSupport = mymodel.NumVar(0, mymodel.infinity(), 'Purchased Supports')\n",
    "BoughtStrap = mymodel.NumVar(0, mymodel.infinity(), 'Purchased Straps')\n",
    "MadeFrame = mymodel.NumVar(0, mymodel.infinity(), 'Produced Frames')\n",
    "MadeSupport = mymodel.NumVar(0, mymodel.infinity(), 'Produced Supports')\n",
    "MadeStrap = mymodel.NumVar(0, mymodel.infinity(), 'Produced Straps')\n",
    "\n",
    "# define objective function\n",
    "Cost = mymodel.Objective()\n",
    "Cost.SetCoefficient(BoughtFrame, 45)\n",
    "Cost.SetCoefficient(BoughtSupport, 15)\n",
    "Cost.SetCoefficient(BoughtStrap, 7.5)\n",
    "Cost.SetCoefficient(MadeFrame, 38)\n",
    "Cost.SetCoefficient(MadeSupport, 11.5)\n",
    "Cost.SetCoefficient(MadeStrap, 6.5)\n",
    "\n",
    "Cost.SetMinimization()\n",
    "\n",
    "\n",
    "Cutting = mymodel.Constraint(0, 60*350)\n",
    "Cutting.SetCoefficient(MadeFrame, 3.5)\n",
    "Cutting.SetCoefficient(MadeSupport, 1.3)\n",
    "Cutting.SetCoefficient(MadeStrap, .8)\n",
    "\n",
    "Milling = mymodel.Constraint(0, 60*420)\n",
    "Milling.SetCoefficient(MadeFrame, 2.2)\n",
    "Milling.SetCoefficient(MadeSupport, 1.7)\n",
    "\n",
    "Shaping = mymodel.Constraint(0, 60*350)\n",
    "Shaping.SetCoefficient(MadeFrame, 3.1)\n",
    "Shaping.SetCoefficient(MadeSupport, 2.6)\n",
    "Shaping.SetCoefficient(MadeStrap, 1.7)\n",
    "\n",
    "\n",
    "SupQuota = mymodel.Constraint(5000, mymodel.infinity())\n",
    "SupQuota.SetCoefficient(BoughtSupport, 1)\n",
    "SupQuota.SetCoefficient(MadeSupport, 1)\n",
    "\n",
    "FrameQuota = mymodel.Constraint(5000, mymodel.infinity())\n",
    "FrameQuota.SetCoefficient(BoughtFrame, 1)\n",
    "FrameQuota.SetCoefficient(MadeFrame, 1)\n",
    "\n",
    "StrapQuota = mymodel.Constraint(10000, mymodel.infinity())\n",
    "StrapQuota.SetCoefficient(BoughtStrap, 1)\n",
    "StrapQuota.SetCoefficient(MadeStrap, 1)\n"
   ]
  },
  {
   "cell_type": "code",
   "execution_count": 10,
   "metadata": {},
   "outputs": [
    {
     "name": "stdout",
     "output_type": "stream",
     "text": [
      "Optimal Solution:\n",
      "Total Profit = 332596.15 \n",
      "\n",
      "BoughtFrame Quantity = 0.00\n",
      "BoughtSupport Quantity = 2884.62\n",
      "BoughtStrap Quantity = 10000.00\n",
      "MadeFrame Quantity = 5000.00\n",
      "MadeSupport Quantity = 2115.38\n",
      "MadeStrap Quantity = 0.00 \n",
      "\n",
      "Cutting constraint = 0.00\n",
      "Shaping constraint = -1.35\n",
      "Milling constraint = 0.00\n"
     ]
    }
   ],
   "source": [
    "mymodel.Solve()\n",
    "print('Optimal Solution:')\n",
    "print('Total Profit = %.2f' % Cost.Value(), '\\n')\n",
    "\n",
    "print('BoughtFrame Quantity = %.2f' % BoughtFrame.solution_value()) \n",
    "print('BoughtSupport Quantity = %.2f' % BoughtSupport.solution_value()) \n",
    "print('BoughtStrap Quantity = %.2f' % BoughtStrap.solution_value()) \n",
    "print('MadeFrame Quantity = %.2f' % MadeFrame.solution_value()) \n",
    "print('MadeSupport Quantity = %.2f' % MadeSupport.solution_value()) \n",
    "print('MadeStrap Quantity = %.2f' % MadeStrap.solution_value(), '\\n') \n",
    "\n",
    "print('Cutting constraint = %.2f' % Cutting.dual_value())\n",
    "print('Shaping constraint = %.2f' % Shaping.dual_value())\n",
    "print('Milling constraint = %.2f' % Milling.dual_value())\n"
   ]
  },
  {
   "cell_type": "markdown",
   "metadata": {},
   "source": [
    "### c)\n",
    "even though there is a reduced cost to purchase, there are still zero frames purchased in this case, so it is still not worth buying."
   ]
  }
 ],
 "metadata": {
  "kernelspec": {
   "display_name": "Python [conda env:.conda-will-gpu] *",
   "language": "python",
   "name": "conda-env-.conda-will-gpu-py"
  },
  "language_info": {
   "codemirror_mode": {
    "name": "ipython",
    "version": 3
   },
   "file_extension": ".py",
   "mimetype": "text/x-python",
   "name": "python",
   "nbconvert_exporter": "python",
   "pygments_lexer": "ipython3",
   "version": "3.8.5"
  }
 },
 "nbformat": 4,
 "nbformat_minor": 4
}
