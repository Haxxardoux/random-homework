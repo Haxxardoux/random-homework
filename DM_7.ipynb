{
 "cells": [
  {
   "cell_type": "code",
   "execution_count": 1,
   "metadata": {},
   "outputs": [],
   "source": [
    "from ortools.linear_solver import pywraplp as glp   "
   ]
  },
  {
   "cell_type": "code",
   "execution_count": 2,
   "metadata": {},
   "outputs": [],
   "source": [
    "mymodel = glp.Solver('CSA', glp.Solver.GLOP_LINEAR_PROGRAMMING)"
   ]
  },
  {
   "cell_type": "code",
   "execution_count": 3,
   "metadata": {},
   "outputs": [],
   "source": [
    "# define decision variables\n",
    "SO = mymodel.NumVar(0, mymodel.infinity(), 'Standard Oil')\n",
    "BO = mymodel.NumVar(0, mymodel.infinity(), 'B&O Railroad')\n",
    "DM = mymodel.NumVar(0, mymodel.infinity(), 'Dunder Mifflin')\n"
   ]
  },
  {
   "cell_type": "code",
   "execution_count": 4,
   "metadata": {},
   "outputs": [],
   "source": [
    "# define objective function\n",
    "Profit = mymodel.Objective()\n",
    "Profit.SetCoefficient(SO, 6)\n",
    "Profit.SetCoefficient(BO, 4)\n",
    "Profit.SetCoefficient(DM, 5)\n",
    "Profit.SetMaximization()"
   ]
  },
  {
   "cell_type": "code",
   "execution_count": 5,
   "metadata": {},
   "outputs": [],
   "source": [
    "# define wood constraints\n",
    "# Pine\n",
    "SO_constraint = mymodel.Constraint(0, 200000)\n",
    "SO_constraint.SetCoefficient(SO, 50)\n",
    "# Cedar\n",
    "BO_constraint = mymodel.Constraint(0, 450000)\n",
    "BO_constraint.SetCoefficient(BO, 30)\n",
    "\n",
    "DM_constraint = mymodel.Constraint(0, 250000)\n",
    "DM_constraint.SetCoefficient(DM, 40)\n",
    "\n",
    "Sum_constraint = mymodel.Constraint(0, 800000)\n",
    "Sum_constraint.SetCoefficient(DM, 40)\n",
    "Sum_constraint.SetCoefficient(BO, 30)\n",
    "Sum_constraint.SetCoefficient(SO, 50)\n"
   ]
  },
  {
   "cell_type": "code",
   "execution_count": 6,
   "metadata": {},
   "outputs": [
    {
     "name": "stdout",
     "output_type": "stream",
     "text": [
      "Number of variables = 3\n",
      "Number of constraints = 4\n",
      "Optimal Solution:\n",
      "Total Profit = 103250.00\n",
      "SO shares = 2000.00\n",
      "BO shares = 15000.00\n",
      "DM shares = 6250.00\n",
      "SO Dual Value = 0.00\n",
      "BO Dual Value = 0.01\n",
      "DM Dual Value = 0.00\n",
      "Sum Dual Value = 0.12\n"
     ]
    }
   ],
   "source": [
    "# Solve the model and print optimal solution\n",
    "mymodel.Solve()\n",
    "\n",
    "print('Number of variables =', mymodel.NumVariables())\n",
    "print('Number of constraints =', mymodel.NumConstraints())\n",
    "\n",
    "print('Optimal Solution:')\n",
    "print('Total Profit = %.2f' % Profit.Value())\n",
    "\n",
    "print('SO shares = %.2f' % SO.solution_value())\n",
    "print('BO shares = %.2f' % BO.solution_value())\n",
    "print('DM shares = %.2f' % DM.solution_value())\n",
    "\n",
    "# marginal value (dual value) of the resources\n",
    "print('SO Dual Value = %.2f' % SO_constraint.dual_value())\n",
    "print('BO Dual Value = %.2f' % BO_constraint.dual_value())\n",
    "print('DM Dual Value = %.2f' % DM_constraint.dual_value())\n",
    "print('Sum Dual Value = %.2f' % Sum_constraint.dual_value())\n"
   ]
  },
  {
   "cell_type": "markdown",
   "metadata": {},
   "source": [
    "Binding constraints are B&O railroad investment limit, and the portfolio limit. they have marginal values of 0.01 and 0.12 respectively."
   ]
  },
  {
   "cell_type": "code",
   "execution_count": 7,
   "metadata": {},
   "outputs": [],
   "source": [
    "mymodel = glp.Solver('LFC', glp.Solver.GLOP_LINEAR_PROGRAMMING)"
   ]
  },
  {
   "cell_type": "code",
   "execution_count": 8,
   "metadata": {},
   "outputs": [],
   "source": [
    "# define decision variables\n",
    "chair = mymodel.NumVar(0, mymodel.infinity(), 'Chairs')\n",
    "desk = mymodel.NumVar(0, mymodel.infinity(), 'Desks')\n",
    "table = mymodel.NumVar(0, mymodel.infinity(), 'Tables')\n"
   ]
  },
  {
   "cell_type": "code",
   "execution_count": 9,
   "metadata": {},
   "outputs": [],
   "source": [
    "# define objective function\n",
    "Profit = mymodel.Objective()\n",
    "Profit.SetCoefficient(chair, 15)\n",
    "Profit.SetCoefficient(desk, 24)\n",
    "Profit.SetCoefficient(table, 18)\n",
    "Profit.SetMaximization()"
   ]
  },
  {
   "cell_type": "code",
   "execution_count": 10,
   "metadata": {},
   "outputs": [],
   "source": [
    "# define wood constraints\n",
    "chair_constraint = mymodel.Constraint(0, 360)\n",
    "chair_constraint.SetCoefficient(chair, 1)\n",
    "\n",
    "desk_constraint = mymodel.Constraint(0, 300)\n",
    "desk_constraint.SetCoefficient(desk, 1)\n",
    "\n",
    "table_constraint = mymodel.Constraint(0, 100)\n",
    "table_constraint.SetCoefficient(table, 1)\n",
    "\n",
    "fab_constraint = mymodel.Constraint(0, 1850)\n",
    "fab_constraint.SetCoefficient(chair, 4)\n",
    "fab_constraint.SetCoefficient(desk, 6)\n",
    "fab_constraint.SetCoefficient(table, 2)\n",
    "\n",
    "assm_constraint = mymodel.Constraint(0, 2400)\n",
    "assm_constraint.SetCoefficient(chair, 3)\n",
    "assm_constraint.SetCoefficient(desk, 5)\n",
    "assm_constraint.SetCoefficient(table, 7)\n",
    "\n",
    "ship_constraint = mymodel.Constraint(0, 1500)\n",
    "ship_constraint.SetCoefficient(chair, 3)\n",
    "ship_constraint.SetCoefficient(desk, 2)\n",
    "ship_constraint.SetCoefficient(table, 4)\n"
   ]
  },
  {
   "cell_type": "code",
   "execution_count": 11,
   "metadata": {},
   "outputs": [
    {
     "name": "stdout",
     "output_type": "stream",
     "text": [
      "Number of variables = 3\n",
      "Number of constraints = 6\n",
      "Optimal Solution:\n",
      "Total Profit = 8400.00\n",
      "Chairs = 0.00\n",
      "Desks = 275.00\n",
      "Tables = 100.00\n",
      "Chair Dual Value = 0.00\n",
      "Desk Dual Value = 0.00\n",
      "Table Dual Value = 10.00\n",
      "Fabrication Dual Value = 4.00\n",
      "Assembly Dual Value = -0.00\n",
      "Shipping Dual Value = -0.00\n"
     ]
    }
   ],
   "source": [
    "# Solve the model and print optimal solution\n",
    "mymodel.Solve()\n",
    "\n",
    "print('Number of variables =', mymodel.NumVariables())\n",
    "print('Number of constraints =', mymodel.NumConstraints())\n",
    "\n",
    "print('Optimal Solution:')\n",
    "print('Total Profit = %.2f' % Profit.Value())\n",
    "\n",
    "print('Chairs = %.2f' % chair.solution_value())\n",
    "print('Desks = %.2f' % desk.solution_value())\n",
    "print('Tables = %.2f' % table.solution_value())\n",
    "\n",
    "# marginal value (dual value) of the resources\n",
    "print('Chair Dual Value = %.2f' % chair_constraint.dual_value())\n",
    "print('Desk Dual Value = %.2f' % desk_constraint.dual_value())\n",
    "print('Table Dual Value = %.2f' % table_constraint.dual_value())\n",
    "print('Fabrication Dual Value = %.2f' % fab_constraint.dual_value())\n",
    "print('Assembly Dual Value = %.2f' % assm_constraint.dual_value())\n",
    "print('Shipping Dual Value = %.2f' % ship_constraint.dual_value())\n"
   ]
  },
  {
   "cell_type": "markdown",
   "metadata": {},
   "source": [
    "Table production limit and fabrication production limit are binding constraints, with marginal values 10 and 4 respectively. "
   ]
  }
 ],
 "metadata": {
  "kernelspec": {
   "display_name": "Python [conda env:.conda-will-gpu] *",
   "language": "python",
   "name": "conda-env-.conda-will-gpu-py"
  },
  "language_info": {
   "codemirror_mode": {
    "name": "ipython",
    "version": 3
   },
   "file_extension": ".py",
   "mimetype": "text/x-python",
   "name": "python",
   "nbconvert_exporter": "python",
   "pygments_lexer": "ipython3",
   "version": "3.8.5"
  }
 },
 "nbformat": 4,
 "nbformat_minor": 4
}
