{
 "cells": [
  {
   "cell_type": "markdown",
   "metadata": {},
   "source": [
    "## DM exam"
   ]
  },
  {
   "cell_type": "code",
   "execution_count": 1,
   "metadata": {},
   "outputs": [],
   "source": [
    "# import jax\n",
    "# from jax import numpy as np\n",
    "\n",
    "import numpy as np"
   ]
  },
  {
   "cell_type": "code",
   "execution_count": 15,
   "metadata": {},
   "outputs": [],
   "source": [
    "# can be between 90% of last months price to 110%\n",
    "# seed1 = jax.random.PRNGKey(1)\n",
    "# p_fluctuations = jax.random.uniform(seed1, shape=(10000, 12), dtype=jax.numpy.float32, maxval=1.1, minval=0.9)\n",
    "\n",
    "p_fluctuations = np.random.uniform(low=0.9, high=1.1, size=(10000, 12))"
   ]
  },
  {
   "cell_type": "markdown",
   "metadata": {},
   "source": [
    "### a)"
   ]
  },
  {
   "cell_type": "code",
   "execution_count": 9,
   "metadata": {},
   "outputs": [],
   "source": [
    "# @jax.jit\n",
    "def airline_sim(rand_n):\n",
    "    return 3*np.prod(rand_n, axis=1)\n",
    "#The problem was asking you to simulate how total cost evolves over 12 months and find the average total \n",
    "#yearly cost, not the distribution of the price\n",
    "#-7 points: month loop\n",
    "#-8 points: price change by month\n",
    "#-8 points: total yearly cost\n",
    "#-5 points: all parameters should be isolated at the top, not hard coded into function calls"
   ]
  },
  {
   "cell_type": "code",
   "execution_count": 16,
   "metadata": {},
   "outputs": [],
   "source": [
    "# %%timeit\n",
    "sim = airline_sim(p_fluctuations)"
   ]
  },
  {
   "cell_type": "code",
   "execution_count": 18,
   "metadata": {},
   "outputs": [
    {
     "data": {
      "image/png": "[encoded data removed]",
      "text/plain": [
       "<Figure size 432x288 with 1 Axes>"
      ]
     },
     "metadata": {
      "needs_background": "light"
     },
     "output_type": "display_data"
    }
   ],
   "source": [
    "import matplotlib.pyplot as plt\n",
    "plt.hist(sim.copy(), bins=30)\n",
    "plt.show()"
   ]
  },
  {
   "cell_type": "markdown",
   "metadata": {},
   "source": [
    "### b)"
   ]
  },
  {
   "cell_type": "code",
   "execution_count": 19,
   "metadata": {},
   "outputs": [],
   "source": [
    "confidence = sim[:1000].std() / (1000**(1/2))\n",
    "\n",
    "# googled the z value for 95% confidence - 1.96, thanks google very cool \n",
    "confidence *= 1.96 #-5 points: Google is not allowed as a resource. Additionally, the problem asked for a 90% interval, not 95%"
   ]
  },
  {
   "cell_type": "code",
   "execution_count": 20,
   "metadata": {},
   "outputs": [
    {
     "name": "stdout",
     "output_type": "stream",
     "text": [
      "3.04326666788844\n",
      "2.9679454667553906\n"
     ]
    }
   ],
   "source": [
    "print(sim.mean()+confidence)\n",
    "print(sim.mean()-confidence)"
   ]
  },
  {
   "cell_type": "markdown",
   "metadata": {},
   "source": [
    "### c)"
   ]
  },
  {
   "cell_type": "code",
   "execution_count": 21,
   "metadata": {},
   "outputs": [
    {
     "data": {
      "text/plain": [
       "0.4623"
      ]
     },
     "execution_count": 21,
     "metadata": {},
     "output_type": "execute_result"
    }
   ],
   "source": [
    "(sim > 3.).mean()"
   ]
  },
  {
   "cell_type": "markdown",
   "metadata": {},
   "source": [
    "i say no, because the simulated 12 year prices were below 3\\\\$ 46\\% of the time - for buying at 3\\\\$ to be optimal, we would want this to be above 50%."
   ]
  }
 ],
 "metadata": {
  "kernelspec": {
   "display_name": "Python 3",
   "language": "python",
   "name": "python3"
  },
  "language_info": {
   "codemirror_mode": {
    "name": "ipython",
    "version": 3
   },
   "file_extension": ".py",
   "mimetype": "text/x-python",
   "name": "python",
   "nbconvert_exporter": "python",
   "pygments_lexer": "ipython3",
   "version": "3.8.5"
  }
 },
 "nbformat": 4,
 "nbformat_minor": 4
}
