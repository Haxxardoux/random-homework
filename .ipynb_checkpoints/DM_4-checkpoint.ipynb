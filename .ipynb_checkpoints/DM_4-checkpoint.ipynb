{
 "cells": [
  {
   "cell_type": "markdown",
   "metadata": {},
   "source": [
    "## Decision models homework 4"
   ]
  },
  {
   "cell_type": "code",
   "execution_count": 1,
   "metadata": {},
   "outputs": [],
   "source": [
    "# Beyonce\n",
    "import jax\n",
    "\n",
    "# if i had a pet horse\n",
    "import numpy as np\n",
    "\n",
    "# that uncle that nobody likes but everyone puts up with because he has money\n",
    "import matplotlib.pyplot as plt\n",
    "\n",
    "# your cousin with down syndrome\n",
    "import random"
   ]
  },
  {
   "cell_type": "code",
   "execution_count": 2,
   "metadata": {},
   "outputs": [],
   "source": [
    "class Params(object):\n",
    "    def __init__(\n",
    "        self,\n",
    "        BuyPrice=50,\n",
    "        SalePrice=75,\n",
    "        ExcessPrice=15,\n",
    "        salesMean=500,\n",
    "        salesStd=75,\n",
    "        OrderQ=550,\n",
    "        n_trials=10000,\n",
    "        min_orderQ = 400,\n",
    "        max_orderQ = 600,\n",
    "    ):\n",
    "        self.BuyPrice = BuyPrice\n",
    "        self.SalePrice = SalePrice\n",
    "        self.ExcessPrice = ExcessPrice\n",
    "        self.salesMean = salesMean\n",
    "        self.salesStd = salesStd\n",
    "        self.OrderQ = OrderQ\n",
    "        self.n_trials = n_trials\n",
    "        self.min_orderQ = min_orderQ\n",
    "        self.max_orderQ = max_orderQ"
   ]
  },
  {
   "cell_type": "markdown",
   "metadata": {},
   "source": [
    "### Trivial/Naive solution. We do it this way to test the speed, and compare the time to better methods"
   ]
  },
  {
   "cell_type": "code",
   "execution_count": 3,
   "metadata": {},
   "outputs": [],
   "source": [
    "args = Params(n_trials=100000)\n",
    "sales_list, profit_list = [], []\n",
    "sanity_check = []\n",
    "for i in range(args.n_trials):\n",
    "    # compute demand\n",
    "    demand = int(random.normalvariate(args.salesMean, args.salesStd))\n",
    "\n",
    "    # costs\n",
    "    cost = args.OrderQ*args.BuyPrice\n",
    "    \n",
    "    # revenue\n",
    "    \n",
    "    season_sales = min(demand, args.OrderQ)\n",
    "    post_season_sales = max(0, args.OrderQ-season_sales)\n",
    "    revenue = post_season_sales*args.ExcessPrice + season_sales*args.SalePrice\n",
    "    sales_list.append(season_sales)\n",
    "    \n",
    "    sanity_check.append(season_sales+post_season_sales)\n",
    "    \n",
    "    # profit\n",
    "    profit_list.append(revenue-cost)\n",
    "    \n",
    "profit_list = np.array(profit_list)\n",
    "sales_list = np.array(sales_list)"
   ]
  },
  {
   "cell_type": "code",
   "execution_count": 4,
   "metadata": {},
   "outputs": [
    {
     "name": "stdout",
     "output_type": "stream",
     "text": [
      "average total sales: sanity check 550.0\n"
     ]
    }
   ],
   "source": [
    "print('average total sales: sanity check', sum(sanity_check)/len(sanity_check))"
   ]
  },
  {
   "cell_type": "markdown",
   "metadata": {},
   "source": [
    "### A) Distribution of total profit"
   ]
  },
  {
   "cell_type": "code",
   "execution_count": 5,
   "metadata": {},
   "outputs": [
    {
     "data": {
      "image/png": "[encoded data removed]",
      "text/plain": [
       "<Figure size 432x288 with 1 Axes>"
      ]
     },
     "metadata": {
      "needs_background": "light"
     },
     "output_type": "display_data"
    }
   ],
   "source": [
    "plt.hist(profit_list, bins=50)\n",
    "plt.show()"
   ]
  },
  {
   "cell_type": "markdown",
   "metadata": {},
   "source": [
    "### B) Total profit mean"
   ]
  },
  {
   "cell_type": "code",
   "execution_count": 6,
   "metadata": {},
   "outputs": [
    {
     "name": "stdout",
     "output_type": "stream",
     "text": [
      "Mean profit 10037.8672\n"
     ]
    }
   ],
   "source": [
    "print('Mean profit', sum(profit_list)/len(profit_list))"
   ]
  },
  {
   "cell_type": "code",
   "execution_count": 7,
   "metadata": {},
   "outputs": [
    {
     "data": {
      "text/plain": [
       "13750"
      ]
     },
     "execution_count": 7,
     "metadata": {},
     "output_type": "execute_result"
    }
   ],
   "source": [
    "max(profit_list)"
   ]
  },
  {
   "cell_type": "markdown",
   "metadata": {},
   "source": [
    "### C) Probability of loss"
   ]
  },
  {
   "cell_type": "code",
   "execution_count": 8,
   "metadata": {},
   "outputs": [
    {
     "name": "stdout",
     "output_type": "stream",
     "text": [
      "Probability of loss 0.99133\n"
     ]
    }
   ],
   "source": [
    "print('Probability of loss', (np.array(profit_list)>0).mean())"
   ]
  },
  {
   "cell_type": "markdown",
   "metadata": {},
   "source": [
    "### D) Simulate order quantities between two values"
   ]
  },
  {
   "cell_type": "code",
   "execution_count": 40,
   "metadata": {},
   "outputs": [
    {
     "name": "stdout",
     "output_type": "stream",
     "text": [
      "5.22 s ± 21.6 ms per loop (mean ± std. dev. of 7 runs, 1 loop each)\n"
     ]
    }
   ],
   "source": [
    "%%timeit\n",
    "args = Params()\n",
    "profit_array = []\n",
    "sales_list, profit_list = [], []\n",
    "\n",
    "min_orderQ = 400\n",
    "max_orderQ = 600\n",
    "orderQ_array = np.arange(min_orderQ, max_orderQ)\n",
    "for orderQ in orderQ_array:\n",
    "    profit_list = []\n",
    "    for i in range(args.n_trials):\n",
    "        # compute demand\n",
    "        demand = int(random.normalvariate(args.salesMean, args.salesStd))\n",
    "\n",
    "        # costs\n",
    "        cost = orderQ*args.BuyPrice\n",
    "\n",
    "        # revenue\n",
    "        season_sales = min(demand, orderQ)\n",
    "        post_season_sales = max(0, orderQ-season_sales)\n",
    "        revenue = post_season_sales*args.ExcessPrice + season_sales*args.SalePrice\n",
    "        sales_list.append(season_sales)\n",
    "\n",
    "        sanity_check.append(season_sales+post_season_sales)\n",
    "\n",
    "        # profit\n",
    "        profit_list.append(revenue-cost)\n",
    "    profit_array.append(profit_list)\n",
    "profit_array = np.array(profit_array)"
   ]
  },
  {
   "cell_type": "code",
   "execution_count": 14,
   "metadata": {},
   "outputs": [],
   "source": [
    "mean_profit = profit_array.mean(axis=1)"
   ]
  },
  {
   "cell_type": "code",
   "execution_count": 15,
   "metadata": {},
   "outputs": [
    {
     "name": "stdout",
     "output_type": "stream",
     "text": [
      "489\n"
     ]
    }
   ],
   "source": [
    "max_quantity = orderQ_array[np.argmax(mean_profit)]\n",
    "print(max_quantity)"
   ]
  },
  {
   "cell_type": "code",
   "execution_count": 16,
   "metadata": {},
   "outputs": [
    {
     "data": {
      "image/png": "[encoded data removed]",
      "text/plain": [
       "<Figure size 432x288 with 1 Axes>"
      ]
     },
     "metadata": {
      "needs_background": "light"
     },
     "output_type": "display_data"
    }
   ],
   "source": [
    "plt.plot(orderQ_array, mean_profit)\n",
    "plt.show()"
   ]
  },
  {
   "cell_type": "markdown",
   "metadata": {},
   "source": [
    "# 1) but better\n",
    "The simulation for 10,000 trials and every integer order quantity between 400 and 600 took 5 seconds total. Absolutely pathetic."
   ]
  },
  {
   "cell_type": "code",
   "execution_count": 17,
   "metadata": {},
   "outputs": [],
   "source": [
    "class JaxParams(object):\n",
    "    def __init__(\n",
    "        self,\n",
    "        BuyPrice=50,\n",
    "        SalePrice=75,\n",
    "        ExcessPrice=15,\n",
    "        salesMean=500,\n",
    "        salesStd=75,\n",
    "        OrderQ=550,\n",
    "        n_trials=10000,\n",
    "        min_orderQ = 400,\n",
    "        max_orderQ = 600,\n",
    "    ):\n",
    "        self.BuyPrice = jax.numpy.float16(BuyPrice)\n",
    "        self.SalePrice = jax.numpy.float16(SalePrice)\n",
    "        self.ExcessPrice = jax.numpy.float16(ExcessPrice)\n",
    "        self.salesMean = jax.numpy.float16(salesMean)\n",
    "        self.salesStd = jax.numpy.float16(salesStd)\n",
    "        self.OrderQ = jax.numpy.float16(OrderQ)\n",
    "        self.n_trials = n_trials\n",
    "        self.min_orderQ = min_orderQ\n",
    "        self.max_orderQ = max_orderQ"
   ]
  },
  {
   "cell_type": "markdown",
   "metadata": {},
   "source": [
    "Entropy is handled by passing and iterating PRNG state, which allows us to fork the PRNG state into new PRNGs for use with parallel stochastic generation"
   ]
  },
  {
   "cell_type": "code",
   "execution_count": 19,
   "metadata": {},
   "outputs": [
    {
     "name": "stderr",
     "output_type": "stream",
     "text": [
      "/data/home/will/.conda/envs/will-gpu/lib/python3.8/site-packages/jax/lib/xla_bridge.py:130: UserWarning: No GPU/TPU found, falling back to CPU.\n",
      "  warnings.warn('No GPU/TPU found, falling back to CPU.')\n"
     ]
    }
   ],
   "source": [
    "KEY = jax.random.PRNGKey(1)\n",
    "\n",
    "# Use half precision for more efficient resource use\n",
    "# shape is (10000, 1) to deal with batched processing later on\n",
    "args = Params()\n",
    "orderQ_array = jax.numpy.arange(args.min_orderQ, args.max_orderQ, dtype=jax.numpy.int16)"
   ]
  },
  {
   "cell_type": "code",
   "execution_count": 20,
   "metadata": {},
   "outputs": [],
   "source": [
    "# jax primatives \n",
    "from jax import lax\n",
    "\n",
    "args = JaxParams()\n",
    "orderQ_array = jax.numpy.arange(args.min_orderQ, args.max_orderQ, dtype=jax.numpy.float16)\n",
    "\n",
    "# Jit compiled functions do not have to be composed of Jax primatives if they are composed of jax.numpy transformations - they will be tracable either way\n",
    "# I just wanted to do it this way to see if it was faster, and the problems are usually too hard to write with primatives. It was not faster :(\n",
    "@jax.jit\n",
    "def compute_profit(sn_val, orderQ=orderQ_array[0]):\n",
    "    demand = lax.add(    \n",
    "        lax.mul(\n",
    "            args.salesStd, \n",
    "            sn_val\n",
    "        ),\n",
    "        \n",
    "        args.salesMean\n",
    "\n",
    "    ).astype(jax.numpy.float16)\n",
    "\n",
    "#     cost\n",
    "    cost = lax.mul(\n",
    "        orderQ,\n",
    "        args.BuyPrice,\n",
    "    )\n",
    "\n",
    "    # revenue\n",
    "    season_sales = jax.numpy.minimum(demand, orderQ)\n",
    "    post_season_sales = jax.numpy.maximum(0, orderQ-season_sales)\n",
    "    \n",
    "    revenue = lax.add(\n",
    "        lax.mul(\n",
    "            post_season_sales,\n",
    "            args.ExcessPrice,\n",
    "        ),\n",
    "        \n",
    "        lax.mul(\n",
    "            season_sales, \n",
    "            args.SalePrice,\n",
    "        )\n",
    "    )\n",
    "    \n",
    "    # this just prints the semantic parameter information and does not \"vectorize print\"\n",
    "    print(revenue-cost)\n",
    "    \n",
    "    return revenue-cost\n"
   ]
  },
  {
   "cell_type": "markdown",
   "metadata": {},
   "source": [
    "One dimensional vectorized mapping over tensor of PRNG values"
   ]
  },
  {
   "cell_type": "code",
   "execution_count": 21,
   "metadata": {},
   "outputs": [],
   "source": [
    "@jax.jit\n",
    "def sim_1d(sn_tensor):\n",
    "    return jax.vmap(compute_profit)(sn_tensor)"
   ]
  },
  {
   "cell_type": "code",
   "execution_count": 24,
   "metadata": {},
   "outputs": [
    {
     "name": "stdout",
     "output_type": "stream",
     "text": [
      "415 µs ± 30 µs per loop (mean ± std. dev. of 7 runs, 1000 loops each)\n"
     ]
    }
   ],
   "source": [
    "%%timeit\n",
    "random_tensor = jax.random.normal(key=KEY, shape=(10000, 1), dtype=jax.numpy.float16)\n",
    "sim_1d(random_tensor).block_until_ready()"
   ]
  },
  {
   "cell_type": "markdown",
   "metadata": {},
   "source": [
    "Two dimensional vectorized mapping over tensor of PRNG values and tensor of possible order quantities"
   ]
  },
  {
   "cell_type": "code",
   "execution_count": 25,
   "metadata": {},
   "outputs": [],
   "source": [
    "@jax.jit\n",
    "def sim_2d(sn_tensor, orderQ_tensor):\n",
    "    return jax.vmap(compute_profit, (0, None), 0)(sn_tensor, orderQ_tensor)"
   ]
  },
  {
   "cell_type": "code",
   "execution_count": 31,
   "metadata": {},
   "outputs": [
    {
     "name": "stdout",
     "output_type": "stream",
     "text": [
      "686 µs ± 5.64 µs per loop (mean ± std. dev. of 7 runs, 1000 loops each)\n"
     ]
    }
   ],
   "source": [
    "%%timeit\n",
    "random_tensor = jax.random.normal(key=KEY, shape=(10000, 1), dtype=jax.numpy.float16)\n",
    "sim_2d(random_tensor, orderQ_array).block_until_ready()"
   ]
  },
  {
   "cell_type": "markdown",
   "metadata": {},
   "source": [
    "680 microseconds is 0.00068 seconds"
   ]
  },
  {
   "cell_type": "code",
   "execution_count": 42,
   "metadata": {},
   "outputs": [
    {
     "data": {
      "text/plain": [
       "7352.941176470587"
      ]
     },
     "execution_count": 42,
     "metadata": {},
     "output_type": "execute_result"
    }
   ],
   "source": [
    "5/0.00068"
   ]
  },
  {
   "cell_type": "markdown",
   "metadata": {},
   "source": [
    "For the exact same task, this is almost 3 orders of magnitude faster\n",
    "Note: NO GPU WAS USED HERE, this is ENTIRELY done on the CPU. On a decent GPU, it would not be the slightest bit unreasonable to expect an **additional** order of magnitude efficiency gain on top of this\n",
    "\n",
    "Jax dispatches tensor operations asynchronously, and immediately returns a preallocated output tensor. A common \"gotcha\" in Jax is to use %%timeit, which will only time the asynchronous dispatch stage, and not execution. We solve this by using block_until_ready() which is a function mostly used to solve this issue. Waiting for computations to complete before returning the tensor is usually slower."
   ]
  },
  {
   "cell_type": "markdown",
   "metadata": {},
   "source": [
    "# 2)"
   ]
  },
  {
   "cell_type": "code",
   "execution_count": 33,
   "metadata": {},
   "outputs": [],
   "source": [
    "class Params2(object):\n",
    "    def __init__(\n",
    "        self,\n",
    "        MinPrice = 18.95,\n",
    "        MaxPrice = 26.95,\n",
    "        MeanPrice = 24.95,\n",
    "        UCMax = 15,\n",
    "        UCMin = 12,\n",
    "        FCMean = 30000,\n",
    "        FCStd = 5000,\n",
    "        n_trials = 10000,\n",
    "    ):\n",
    "        self.MinPrice = MinPrice\n",
    "        self.MaxPrice = MaxPrice\n",
    "        self.MeanPrice = MeanPrice\n",
    "        self.UCMax = UCMax\n",
    "        self.UCMin = UCMin\n",
    "        self.FCMean = FCMean\n",
    "        self.FCStd = FCStd\n",
    "        self.n_trials = n_trials"
   ]
  },
  {
   "cell_type": "code",
   "execution_count": 34,
   "metadata": {},
   "outputs": [],
   "source": [
    "args = Params2()\n",
    "\n",
    "def compute_profit(args):\n",
    "    sales_price = np.random.triangular(args.MinPrice, args.MeanPrice, args.MaxPrice, 1)[0]\n",
    "    random_factor = 10*np.random.normal()\n",
    "    sales = 10000- 250*sales_price + random_factor\n",
    "    \n",
    "    # costs\n",
    "    random_unit_cost = np.random.uniform(args.UCMin, args.UCMax)\n",
    "    random_cost_factor = args.FCStd*np.random.normal() + args.FCMean\n",
    "    total_cost = random_cost_factor + sales*random_unit_cost\n",
    "    \n",
    "    return sales*sales_price - total_cost"
   ]
  },
  {
   "cell_type": "code",
   "execution_count": 35,
   "metadata": {},
   "outputs": [],
   "source": [
    "profit = []\n",
    "for i in range(args.n_trials):\n",
    "    profit.append(compute_profit(args))\n",
    "profit = np.array(profit)"
   ]
  },
  {
   "cell_type": "markdown",
   "metadata": {},
   "source": [
    "#### A)\n",
    "Profit appears to be normally distributed"
   ]
  },
  {
   "cell_type": "code",
   "execution_count": 36,
   "metadata": {},
   "outputs": [
    {
     "data": {
      "image/png": "[encoded data removed]",
      "text/plain": [
       "<Figure size 432x288 with 1 Axes>"
      ]
     },
     "metadata": {
      "needs_background": "light"
     },
     "output_type": "display_data"
    }
   ],
   "source": [
    "plt.hist(profit, bins=30)\n",
    "plt.show()"
   ]
  },
  {
   "cell_type": "markdown",
   "metadata": {},
   "source": [
    "#### B)\n",
    "~10,700$"
   ]
  },
  {
   "cell_type": "code",
   "execution_count": 37,
   "metadata": {},
   "outputs": [
    {
     "data": {
      "text/plain": [
       "10796.615558510008"
      ]
     },
     "execution_count": 37,
     "metadata": {},
     "output_type": "execute_result"
    }
   ],
   "source": [
    "profit.mean()"
   ]
  },
  {
   "cell_type": "markdown",
   "metadata": {},
   "source": [
    "#### C)\n",
    "~6%"
   ]
  },
  {
   "cell_type": "code",
   "execution_count": 38,
   "metadata": {},
   "outputs": [
    {
     "data": {
      "text/plain": [
       "0.0632"
      ]
     },
     "execution_count": 38,
     "metadata": {},
     "output_type": "execute_result"
    }
   ],
   "source": [
    "(profit<0).mean()"
   ]
  },
  {
   "cell_type": "markdown",
   "metadata": {},
   "source": [
    "#### D)\n",
    "~ -15,000$"
   ]
  },
  {
   "cell_type": "code",
   "execution_count": 39,
   "metadata": {},
   "outputs": [
    {
     "data": {
      "text/plain": [
       "-15438.781413351375"
      ]
     },
     "execution_count": 39,
     "metadata": {},
     "output_type": "execute_result"
    }
   ],
   "source": [
    "profit.min()"
   ]
  }
 ],
 "metadata": {
  "kernelspec": {
   "display_name": "Python [conda env:.conda-will-gpu] *",
   "language": "python",
   "name": "conda-env-.conda-will-gpu-py"
  },
  "language_info": {
   "codemirror_mode": {
    "name": "ipython",
    "version": 3
   },
   "file_extension": ".py",
   "mimetype": "text/x-python",
   "name": "python",
   "nbconvert_exporter": "python",
   "pygments_lexer": "ipython3",
   "version": "3.8.5"
  }
 },
 "nbformat": 4,
 "nbformat_minor": 4
}
