{
 "cells": [
  {
   "cell_type": "markdown",
   "metadata": {},
   "source": [
    "## 2)"
   ]
  },
  {
   "cell_type": "code",
   "execution_count": 1,
   "metadata": {},
   "outputs": [],
   "source": [
    "from ortools.linear_solver import pywraplp as glp   "
   ]
  },
  {
   "cell_type": "markdown",
   "metadata": {},
   "source": [
    "# a)"
   ]
  },
  {
   "cell_type": "code",
   "execution_count": 2,
   "metadata": {},
   "outputs": [],
   "source": [
    "mymodel = glp.Solver('TF', glp.Solver.GLOP_LINEAR_PROGRAMMING)\n",
    "\n",
    "# if it works it works\n",
    "Wheat = mymodel.NumVar(0, mymodel.infinity(), 'Wheat')\n",
    "WheatConstraint = mymodel.Constraint(600, mymodel.infinity())\n",
    "WheatConstraint.SetCoefficient(Wheat, 1) \n",
    "\n",
    "Corn = mymodel.NumVar(0, mymodel.infinity(), 'Corn')\n",
    "CornConstraint = mymodel.Constraint(0, 1000)\n",
    "CornConstraint.SetCoefficient(Corn, 1) \n",
    "\n",
    "Soybeans = mymodel.NumVar(0, mymodel.infinity(), 'Soybeans')\n",
    "SoybeansConstraint = mymodel.Constraint(0, 1200)\n",
    "SoybeansConstraint.SetCoefficient(Soybeans, 1) \n",
    "\n",
    "Barley = mymodel.NumVar(0, mymodel.infinity(), 'Barley') # these are all in tons\n",
    "\n",
    "# $/acre divided by tons/acre gives units of $/acre, same units as planting cost\n",
    "Profit = mymodel.Objective()\n",
    "Profit.SetCoefficient(Wheat, 170 - (150/2.0))\n",
    "Profit.SetCoefficient(Corn, 150 - (135/2.5))\n",
    "Profit.SetCoefficient(Soybeans, 140 - (140/3.0))\n",
    "Profit.SetCoefficient(Barley, 190 - (150/1.5)) \n",
    "Profit.SetMaximization()\n",
    "\n",
    "# the variables are in tons so need to take inverse of production to get units of acre/ton, ton cancels giving us units of acres\n",
    "LandConstraint = mymodel.Constraint(0, 1000)\n",
    "LandConstraint.SetCoefficient(Wheat, 1/2) \n",
    "LandConstraint.SetCoefficient(Corn, 1/2.5)\n",
    "LandConstraint.SetCoefficient(Soybeans, 1/3)\n",
    "LandConstraint.SetCoefficient(Barley, 1/1.5)"
   ]
  },
  {
   "cell_type": "code",
   "execution_count": 3,
   "metadata": {},
   "outputs": [
    {
     "name": "stdout",
     "output_type": "stream",
     "text": [
      "Optimal Solution:\n",
      "Total Profit = 241000.00\n",
      "Wheat Quantity (tons) = 600.00\n",
      "Corn Quantity (tons) = 750.00\n",
      "Soybeans Quantity (tons) = 1200.00\n",
      "Barley Quantity (tons) = 0.00\n",
      "Land Constraint dual value = 240.00\n",
      "Wheat Constraint dual value = -25.00\n",
      "Corn Constraint dual value = 0.00\n",
      "Soybeans Constraint dual value = 13.33\n"
     ]
    }
   ],
   "source": [
    "mymodel.Solve()\n",
    "\n",
    "print('Optimal Solution:')\n",
    "print('Total Profit = %.2f' % Profit.Value())\n",
    "\n",
    "print('Wheat Quantity (tons) = %.2f' % Wheat.solution_value())\n",
    "print('Corn Quantity (tons) = %.2f' % Corn.solution_value())\n",
    "print('Soybeans Quantity (tons) = %.2f' % Soybeans.solution_value())\n",
    "print('Barley Quantity (tons) = %.2f' % Barley.solution_value())\n",
    "\n",
    "# marginal value of the resources\n",
    "print('Land Constraint dual value = %.2f' % LandConstraint.dual_value())\n",
    "print('Wheat Constraint dual value = %.2f' % WheatConstraint.dual_value())\n",
    "print('Corn Constraint dual value = %.2f' % CornConstraint.dual_value())\n",
    "print('Soybeans Constraint dual value = %.2f' % SoybeansConstraint.dual_value())\n"
   ]
  },
  {
   "cell_type": "markdown",
   "metadata": {},
   "source": [
    "# b)\n",
    "Yes, because the marginal value per acre of land is 240, which is greater than the cost of 100\\\\$. Profit will increase by 140\\\\$"
   ]
  },
  {
   "cell_type": "markdown",
   "metadata": {},
   "source": [
    "# c)\n",
    "They should try and produce less wheat since the dual value is negative, which means the quota is reducing profits. They should also try and increase the cap on soybeans - it has a positive dual value and profit would increase if they could produce more"
   ]
  }
 ],
 "metadata": {
  "kernelspec": {
   "display_name": "Python [conda env:.conda-will-gpu] *",
   "language": "python",
   "name": "conda-env-.conda-will-gpu-py"
  },
  "language_info": {
   "codemirror_mode": {
    "name": "ipython",
    "version": 3
   },
   "file_extension": ".py",
   "mimetype": "text/x-python",
   "name": "python",
   "nbconvert_exporter": "python",
   "pygments_lexer": "ipython3",
   "version": "3.8.5"
  }
 },
 "nbformat": 4,
 "nbformat_minor": 4
}
