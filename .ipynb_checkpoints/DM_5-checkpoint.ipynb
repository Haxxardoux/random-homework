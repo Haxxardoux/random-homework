{
 "cells": [
  {
   "cell_type": "markdown",
   "metadata": {},
   "source": [
    "## Decision models homework 5, yee-haw!"
   ]
  },
  {
   "cell_type": "code",
   "execution_count": 1,
   "metadata": {},
   "outputs": [],
   "source": [
    "# Rustle up some asynchronous tensor manipulation, partner!\n",
    "import jax\n",
    "from jax import numpy as np"
   ]
  },
  {
   "cell_type": "code",
   "execution_count": 2,
   "metadata": {},
   "outputs": [
    {
     "name": "stderr",
     "output_type": "stream",
     "text": [
      "/data/home/will/.conda/envs/will-gpu/lib/python3.8/site-packages/jax/lib/xla_bridge.py:130: UserWarning: No GPU/TPU found, falling back to CPU.\n",
      "  warnings.warn('No GPU/TPU found, falling back to CPU.')\n",
      "/data/home/will/.conda/envs/will-gpu/lib/python3.8/site-packages/jax/lax/lax.py:6198: UserWarning: Explicitly requested dtype int64 requested in array is not available, and will be truncated to dtype int32. To enable more dtypes, set the jax_enable_x64 configuration option or the JAX_ENABLE_X64 shell environment variable. See https://github.com/google/jax#current-gotchas for more.\n",
      "  warnings.warn(msg.format(dtype, fun_name , truncated_dtype))\n"
     ]
    }
   ],
   "source": [
    "import grub"
   ]
  },
  {
   "cell_type": "code",
   "execution_count": 3,
   "metadata": {},
   "outputs": [],
   "source": [
    "# Rustle up some grub there, partner!\n",
    "cowboy_details = grub.rustle()\n",
    "\n",
    "# add joke about horse\n",
    "clue_about_maiden_whereabouts = jax.random.PRNGKey(1)\n",
    "lookin_for_maidens = jax.random.uniform(clue_about_maiden_whereabouts, shape=(cowboy_details.n_cowboys, 20), dtype=jax.numpy.float16)\n",
    "maiden_mood = jax.random.normal(clue_about_maiden_whereabouts, shape=(cowboy_details.n_cowboys, 20), dtype=jax.numpy.float16)"
   ]
  },
  {
   "cell_type": "code",
   "execution_count": 4,
   "metadata": {},
   "outputs": [],
   "source": [
    "# Dont squat with your spurs on!\n",
    "\n",
    "@jax.jit\n",
    "def rescue_maiden(luck, maiden_mood):\n",
    "    did_we_rescue_the_maiden = luck > cowboy_details.cowgirl_needs_rescuing_prob * cowboy_details.cowgirl_rescued_prob\n",
    "    maiden_gratitude = cowboy_details.gratitude_mean + cowboy_details.gratitude_std*maiden_mood\n",
    "\n",
    "    adjusted_gratitude = maiden_gratitude*did_we_rescue_the_maiden\n",
    "    \n",
    "    return np.sum(adjusted_gratitude)\n",
    "    \n",
    "    \n",
    "@jax.jit\n",
    "def initiate_adventure(do_luck_be_on_our_side, is_it_that_time_of_the_month):\n",
    "    return jax.vmap(rescue_maiden)(do_luck_be_on_our_side, is_it_that_time_of_the_month)"
   ]
  },
  {
   "cell_type": "code",
   "execution_count": 5,
   "metadata": {},
   "outputs": [],
   "source": [
    "our_adventure_was_great = initiate_adventure(do_luck_be_on_our_side=lookin_for_maidens, is_it_that_time_of_the_month = maiden_mood)"
   ]
  },
  {
   "cell_type": "code",
   "execution_count": 6,
   "metadata": {},
   "outputs": [],
   "source": [
    "we_rescued_many = our_adventure_was_great.std() / (len(our_adventure_was_great)**(1/2))\n",
    "\n",
    "# thanks google \n",
    "we_rescued_many *= 1.96"
   ]
  },
  {
   "cell_type": "code",
   "execution_count": 7,
   "metadata": {},
   "outputs": [
    {
     "name": "stdout",
     "output_type": "stream",
     "text": [
      "412.21704\n",
      "410.10364\n"
     ]
    }
   ],
   "source": [
    "print(our_adventure_was_great.mean()+we_rescued_many)\n",
    "print(our_adventure_was_great.mean()-we_rescued_many)"
   ]
  }
 ],
 "metadata": {
  "kernelspec": {
   "display_name": "Python [conda env:.conda-will-gpu] *",
   "language": "python",
   "name": "conda-env-.conda-will-gpu-py"
  },
  "language_info": {
   "codemirror_mode": {
    "name": "ipython",
    "version": 3
   },
   "file_extension": ".py",
   "mimetype": "text/x-python",
   "name": "python",
   "nbconvert_exporter": "python",
   "pygments_lexer": "ipython3",
   "version": "3.8.5"
  }
 },
 "nbformat": 4,
 "nbformat_minor": 4
}
