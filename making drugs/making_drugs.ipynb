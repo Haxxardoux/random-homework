{
 "cells": [
  {
   "cell_type": "markdown",
   "metadata": {
    "id": "ta1G7oOHJxl9"
   },
   "source": [
    "# Libraries Related"
   ]
  },
  {
   "cell_type": "code",
   "execution_count": 27,
   "metadata": {
    "id": "LrQtnZ6BJ26w"
   },
   "outputs": [],
   "source": [
    "import torch\n",
    "import pandas as pd\n",
    "from sklearn.model_selection import train_test_split\n",
    "import random\n",
    "from tqdm import tqdm\n",
    "\n",
    "# custom stuff\n",
    "from data import load_data\n",
    "from model_parts import Seq2Seq, BottleNeckCNN, AttnDecoder, Encoder\n",
    "from utils import Config\n",
    "# from train import train"
   ]
  },
  {
   "cell_type": "markdown",
   "metadata": {
    "id": "qSFgpv0nKD9Q"
   },
   "source": [
    "#### Configuration Class"
   ]
  },
  {
   "cell_type": "code",
   "execution_count": 2,
   "metadata": {},
   "outputs": [],
   "source": [
    "config = Config()"
   ]
  },
  {
   "cell_type": "markdown",
   "metadata": {
    "id": "RHIOahkEJoN5"
   },
   "source": [
    "#### Data Preprocessing"
   ]
  },
  {
   "cell_type": "code",
   "execution_count": 3,
   "metadata": {},
   "outputs": [],
   "source": [
    "train_iter, val_iter, test_iter = load_data(config=config, path='zinc_250k_cat_encoded.csv')"
   ]
  },
  {
   "cell_type": "markdown",
   "metadata": {
    "id": "0OcAJlAoQEYv"
   },
   "source": [
    "# Training Part"
   ]
  },
  {
   "cell_type": "code",
   "execution_count": 29,
   "metadata": {
    "id": "VlPoc8XvW4mV"
   },
   "outputs": [],
   "source": [
    "def train(model, data, hidden_dec, criterion,\n",
    "          optimizer, teacher_forcing=False, beta=1):\n",
    "  # Nested function to handle teacher forcing\n",
    "  # This function does not take in account bottleneck, so the output will be\n",
    "  # Invalid, modify this before using no teacher forcing.\n",
    "  def train_without_teachforce():\n",
    "    enc_out, _ = model.encoder(data, None)\n",
    "    enc_out, bottleneck, mu, logvar = seq2seq.bottleneck(enc_out.permute(0,2,1))\n",
    "    enc_out = enc_out.permute(0, 2, 1)\n",
    "    current_token = data[:,0].unsqueeze(1)\n",
    "    h = hidden_dec\n",
    "    loss = 0\n",
    "    # Keep Track of recon loss\n",
    "    recon = 0\n",
    "    for i in range(data.shape[1] - 1):\n",
    "      out, h = model.decoder(current_token, h, enc_out)\n",
    "      # Loss Calculation\n",
    "      rec_loss = criterion(out.permute(0,2,1), data[:,i+1].unsqueeze(1))\n",
    "      loss += rec_loss\n",
    "      # Update recon for printing puposes\n",
    "      recon += rec_loss\n",
    "      # Set next token\n",
    "      current_token = out.topk(1, dim=2)[1].squeeze(-1).detach()\n",
    "    # Calculate and add KLD Loss\n",
    "    kld_loss = -0.5 * torch.sum(1 + logvar - mu.pow(2) - logvar.exp())\n",
    "    loss += beta * kld_loss\n",
    "    \n",
    "    return loss, recon.item(), kld_loss.item()\n",
    "  #______________________________________________\n",
    "  if teacher_forcing:\n",
    "    out, bottleneck, mu, logvar = model(data, hidden_dec)\n",
    "    rec_loss = criterion(out.permute(0,2,1), data[:,1:])\n",
    "    kld_loss = -0.5 * torch.sum(1 + logvar - mu.pow(2) - logvar.exp())\n",
    "    loss = rec_loss + beta * kld_loss\n",
    "    rec_loss = rec_loss\n",
    "    kld_loss = kld_loss\n",
    "  else:\n",
    "    loss, rec_loss, kld_loss = train_without_teachforce()\n",
    "  optimizer.zero_grad()\n",
    "  loss.backward()\n",
    "  torch.nn.utils.clip_grad_value_(model.parameters(), config.grad_clip)\n",
    "  optimizer.step()\n",
    "\n",
    "  return loss, rec_loss, kld_loss"
   ]
  },
  {
   "cell_type": "code",
   "execution_count": 25,
   "metadata": {
    "id": "CoVFk9wKJsM8"
   },
   "outputs": [],
   "source": [
    "seq2seq = Seq2Seq(config).to(config.device)\n",
    "criterion = torch.nn.NLLLoss(ignore_index=0, reduction=\"sum\")\n",
    "optimizer = torch.optim.Adam(seq2seq.parameters(), lr=config.lr)    "
   ]
  },
  {
   "cell_type": "code",
   "execution_count": null,
   "metadata": {
    "colab": {
     "base_uri": "https://localhost:8080/",
     "height": 1000
    },
    "id": "5Nx1iMFI2du6",
    "outputId": "948aa934-4d60-4a9e-c9f9-8e32909fd129"
   },
   "outputs": [
    {
     "name": "stderr",
     "output_type": "stream",
     "text": [
      "Loss: 115.32 Recon: 115.32 KLD: 2112.03: : 47it [00:18,  2.62it/s]"
     ]
    }
   ],
   "source": [
    "seq2seq.train()\n",
    "running_loss = [0, 0, 0]\n",
    "for j in range(15):\n",
    "    data_iterable = tqdm(enumerate(train_iter))\n",
    "    for i, data in data_iterable:\n",
    "        data = data.to(config.device)\n",
    "        hidden_dec = seq2seq.decoder.init_hidden(data.shape[0], config.device)\n",
    "        # Teacher Forcing\n",
    "        if random.random() < config.teachforce_ratio:\n",
    "            do_teach_force = True\n",
    "        else:\n",
    "            do_teach_force = False\n",
    "        losses = train(seq2seq, data, hidden_dec,\n",
    "                                criterion, optimizer, do_teach_force, config.beta)\n",
    "        for n in range(len(losses)):\n",
    "            running_loss[n] += losses[n]/config.batch_size\n",
    "        print_after = 10\n",
    "#         data_iterable.set_description(f\"Loss: {loss:.2f} Recon: {recon:.2f} KLD: {kld:.2f}\")\n",
    "        if (i+1) % print_after == 0:\n",
    "            loss = running_loss[0]/print_after\n",
    "            recon = running_loss[1]/print_after\n",
    "            kld = running_loss[2]/print_after\n",
    "            data_iterable.set_description(f\"Loss: {loss:.2f} Recon: {recon:.2f} KLD: {kld:.2f}\")\n",
    "            running_loss = [0, 0, 0]\n"
   ]
  },
  {
   "cell_type": "code",
   "execution_count": null,
   "metadata": {
    "id": "U84S2Yc57XCQ"
   },
   "outputs": [],
   "source": [
    "def validate(model, data, hidden_dec, criterion):\n",
    "  with torch.no_grad():\n",
    "    out, _, _, _ = model(data, hidden_dec)\n",
    "    # loss = criterion(out.permute(0,2,1), data[:,1:])\n",
    "    loss = torch.nn.NLLLoss(ignore_index=0)(out.permute(0,2,1), data[:,1:])\n",
    "  return loss.item()"
   ]
  },
  {
   "cell_type": "code",
   "execution_count": null,
   "metadata": {
    "colab": {
     "base_uri": "https://localhost:8080/",
     "height": 35
    },
    "id": "2bnrVD0HFDgs",
    "outputId": "404c4262-7b3a-4fb3-875a-60a09e99fea9"
   },
   "outputs": [],
   "source": [
    "seq2seq.eval()\n",
    "running_loss = 0\n",
    "for i, data in enumerate(val_iter):\n",
    "    data = data.to(config.device)\n",
    "    hidden_dec = seq2seq.decoder.init_hidden(data.shape[0], config.device)\n",
    "    running_loss += validate(seq2seq, data, hidden_dec, criterion)\n",
    "\n",
    "running_loss/len(val_iter)"
   ]
  },
  {
   "cell_type": "code",
   "execution_count": null,
   "metadata": {
    "id": "qiDA4cLchfnW"
   },
   "outputs": [],
   "source": [
    "def validate_infer(model, data, hidden_dec, criterion):\n",
    "  with torch.no_grad():\n",
    "    batch_size = data.shape[0]\n",
    "    enc_out, _ = seq2seq.encoder(data, None)\n",
    "    enc_out, bottleneck, _, _ = seq2seq.bottleneck(enc_out.permute(0,2,1))\n",
    "    enc_out = enc_out.permute(0, 2, 1)\n",
    "    current_token = torch.ones(\n",
    "        (batch_size,1), dtype=torch.long, device=config.device\n",
    "        )\n",
    "    output_seq = []\n",
    "    output_scores = []\n",
    "    h = seq2seq.decoder.init_hidden(batch_size, config.device)\n",
    "    for i in range(config.max_length - 1):\n",
    "      out, h = seq2seq.decoder(current_token, h, enc_out)\n",
    "      output_scores.append(out)\n",
    "      current_token = out.topk(1, dim=2)[1].squeeze(-1)\n",
    "      output_seq.append(current_token)\n",
    "  output_seq = torch.cat(output_seq, dim=1)\n",
    "  output_scores = torch.cat(output_scores, dim=1)\n",
    "  # loss = criterion(output_scores.permute(0,2,1), data[:, 1:])\n",
    "  loss = torch.nn.NLLLoss(ignore_index=0)(output_scores.permute(0,2,1), data[:, 1:])\n",
    "  return loss.item(), output_seq"
   ]
  },
  {
   "cell_type": "code",
   "execution_count": null,
   "metadata": {
    "colab": {
     "base_uri": "https://localhost:8080/",
     "height": 35
    },
    "id": "rRqP66Em-Mjv",
    "outputId": "91adf68d-e1d1-4d80-fe6a-116d5e3301ea"
   },
   "outputs": [],
   "source": [
    "seq2seq.eval()\n",
    "running_loss = 0\n",
    "for i, data in enumerate(val_iter):\n",
    "    data = data.to(config.device)\n",
    "    hidden_dec = seq2seq.decoder.init_hidden(data.shape[0], config.device)\n",
    "    loss, output_seq = validate_infer(seq2seq, data, hidden_dec, criterion)\n",
    "    running_loss += loss\n",
    "running_loss/len(val_iter)"
   ]
  },
  {
   "cell_type": "code",
   "execution_count": null,
   "metadata": {
    "colab": {
     "base_uri": "https://localhost:8080/",
     "height": 182
    },
    "id": "0tyylq-qNBtT",
    "outputId": "3aa786c6-57cb-4136-e0fc-e35a4fdcf96a"
   },
   "outputs": [],
   "source": [
    "output_seq[1]"
   ]
  },
  {
   "cell_type": "code",
   "execution_count": null,
   "metadata": {
    "colab": {
     "base_uri": "https://localhost:8080/",
     "height": 182
    },
    "id": "6Vo1ltGsEb_R",
    "outputId": "3a62b539-3fb0-4f7b-ac51-0c8c87f251bc"
   },
   "outputs": [],
   "source": [
    "data[1][1:]"
   ]
  },
  {
   "cell_type": "code",
   "execution_count": null,
   "metadata": {
    "colab": {
     "base_uri": "https://localhost:8080/",
     "height": 35
    },
    "id": "KK5kWFDFEeSD",
    "outputId": "4ccd0246-203f-4f9e-b9cf-65b29b46107c"
   },
   "outputs": [],
   "source": [
    "lols = set()\n",
    "for i in output_seq:\n",
    "  lols.add(\" \".join(map(str, list(i.cpu().numpy()))))\n",
    "len(lols)"
   ]
  },
  {
   "cell_type": "code",
   "execution_count": null,
   "metadata": {
    "id": "ogJu1jjNs8v1"
   },
   "outputs": [],
   "source": []
  }
 ],
 "metadata": {
  "accelerator": "GPU",
  "colab": {
   "collapsed_sections": [],
   "name": "Untitled2.ipynb",
   "provenance": []
  },
  "kernelspec": {
   "display_name": "Python [conda env:.conda-will-gpu] *",
   "language": "python",
   "name": "conda-env-.conda-will-gpu-py"
  },
  "language_info": {
   "codemirror_mode": {
    "name": "ipython",
    "version": 3
   },
   "file_extension": ".py",
   "mimetype": "text/x-python",
   "name": "python",
   "nbconvert_exporter": "python",
   "pygments_lexer": "ipython3",
   "version": "3.8.5"
  }
 },
 "nbformat": 4,
 "nbformat_minor": 4
}
